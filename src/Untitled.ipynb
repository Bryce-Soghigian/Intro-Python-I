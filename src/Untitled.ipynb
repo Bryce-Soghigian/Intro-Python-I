{
 "cells": [
  {
   "cell_type": "code",
   "execution_count": 1,
   "metadata": {},
   "outputs": [
    {
     "name": "stdout",
     "output_type": "stream",
     "text": [
      "[1, 2, 3, 4]\n",
      "[1, 2, 3, 4, 8, 9, 10]\n",
      "[1, 2, 3, 4, 9, 10]\n",
      "[1, 2, 3, 4, 9, 99, 10]\n",
      "7\n"
     ]
    }
   ],
   "source": [
    "# For the exercise, look up the methods and functions that are available for use\n",
    "# with Python lists.\n",
    "\n",
    "x = [1, 2, 3]\n",
    "y = [8, 9, 10]\n",
    "\n",
    "# For the following, DO NOT USE AN ASSIGNMENT (=).\n",
    "x.insert(4,4)\n",
    "# Change x so that it is [1, 2, 3, 4]\n",
    "# YOUR CODE HERE \n",
    "print(x)\n",
    "x = x+y\n",
    "# Using y, change x so that it is [1, 2, 3, 4, 8, 9, 10]\n",
    "# YOUR CODE HERE \n",
    "print(x)\n",
    "f= x[0:4]\n",
    "c= x[5:7]\n",
    "x=f+c;\n",
    "# Change x so that it is [1, 2, 3, 4, 9, 10]\n",
    "# YOUR CODE HERE \n",
    "print(x)\n",
    "# list.insert(index, elem)\n",
    "x.insert(5,99)\n",
    "# Change x so that it is [1, 2, 3, 4, 9, 99, 10]\n",
    "# YOUR CODE HERE \n",
    "print(x)\n",
    "\n",
    "# Print the length of list x\n",
    "# YOUR CODE HERE \n",
    "print(len(x))\n",
    "# Print all the values in x multiplied by 1000\n",
    "# YOUR CODE HERE"
   ]
  },
  {
   "cell_type": "code",
   "execution_count": 2,
   "metadata": {},
   "outputs": [
    {
     "name": "stdout",
     "output_type": "stream",
     "text": [
      "1000\n",
      "2000\n",
      "3000\n",
      "4000\n",
      "9000\n",
      "99000\n",
      "10000\n"
     ]
    }
   ],
   "source": [
    "for i in x:\n",
    "    print(i*1000)"
   ]
  },
  {
   "cell_type": "code",
   "execution_count": null,
   "metadata": {},
   "outputs": [],
   "source": []
  }
 ],
 "metadata": {
  "kernelspec": {
   "display_name": "Python 3",
   "language": "python",
   "name": "python3"
  },
  "language_info": {
   "codemirror_mode": {
    "name": "ipython",
    "version": 3
   },
   "file_extension": ".py",
   "mimetype": "text/x-python",
   "name": "python",
   "nbconvert_exporter": "python",
   "pygments_lexer": "ipython3",
   "version": "3.7.3"
  }
 },
 "nbformat": 4,
 "nbformat_minor": 4
}
